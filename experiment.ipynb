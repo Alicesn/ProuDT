{
 "cells": [
  {
   "cell_type": "code",
   "execution_count": 1,
   "metadata": {},
   "outputs": [],
   "source": [
    "import sys\n",
    "sys.path.append(\"./src\")\n",
    "from functions import *\n",
    "from config import *  # datasets and default settings"
   ]
  },
  {
   "cell_type": "code",
   "execution_count": 2,
   "metadata": {},
   "outputs": [
    {
     "name": "stdout",
     "output_type": "stream",
     "text": [
      "dataset name is: Iris \n",
      "Running trial 1 with seed 42\n"
     ]
    },
    {
     "name": "stdout",
     "output_type": "stream",
     "text": [
      "Using device: cpu\n",
      "trial: 1,seed:42,name: Iris, depth: 8, train accuracy:0.9777777777777777, test accuracy:0.9666666666666667,train_f1_macro:0.9777777777777779,test_f1_macro:0.9665831244778613,train time: 5.750011920928955, test accuracy time: 0.0030090808868408203\n",
      "dataset name is: Iris \n",
      "Running trial 2 with seed 43\n",
      "Using device: cpu\n",
      "trial: 2,seed:43,name: Iris, depth: 8, train accuracy:0.9888888888888889, test accuracy:0.8666666666666667,train_f1_macro:0.9888858016115588,test_f1_macro:0.8653198653198654,train time: 6.092698097229004, test accuracy time: 0.0030059814453125\n",
      "dataset name is: Iris \n",
      "Running trial 3 with seed 44\n",
      "Using device: cpu\n",
      "trial: 3,seed:44,name: Iris, depth: 8, train accuracy:0.9666666666666667, test accuracy:0.9666666666666667,train_f1_macro:0.9666574048346762,test_f1_macro:0.9665831244778613,train time: 8.000740051269531, test accuracy time: 0.0029430389404296875\n",
      "dataset name is: Iris \n",
      "Running trial 4 with seed 45\n",
      "Using device: cpu\n",
      "trial: 4,seed:45,name: Iris, depth: 8, train accuracy:0.9888888888888889, test accuracy:0.9333333333333333,train_f1_macro:0.9888858016115588,test_f1_macro:0.9326599326599326,train time: 7.841702222824097, test accuracy time: 0.002953052520751953\n",
      "dataset name is: Iris \n",
      "Running trial 5 with seed 46\n",
      "Using device: cpu\n",
      "trial: 5,seed:46,name: Iris, depth: 8, train accuracy:0.9888888888888889, test accuracy:0.9666666666666667,train_f1_macro:0.9888858016115588,test_f1_macro:0.9665831244778613,train time: 8.68661880493164, test accuracy time: 0.0031599998474121094\n",
      "dataset name is: Iris \n",
      "Running trial 6 with seed 47\n",
      "Using device: cpu\n",
      "trial: 6,seed:47,name: Iris, depth: 8, train accuracy:1.0, test accuracy:0.9666666666666667,train_f1_macro:1.0,test_f1_macro:0.9665831244778612,train time: 10.585803985595703, test accuracy time: 0.0032472610473632812\n",
      "dataset name is: Iris \n",
      "Running trial 7 with seed 48\n",
      "Using device: cpu\n",
      "trial: 7,seed:48,name: Iris, depth: 8, train accuracy:0.9888888888888889, test accuracy:0.9666666666666667,train_f1_macro:0.9888858016115588,test_f1_macro:0.9665831244778613,train time: 5.144253969192505, test accuracy time: 0.0032482147216796875\n",
      "dataset name is: Iris \n",
      "Running trial 8 with seed 49\n",
      "Using device: cpu\n",
      "trial: 8,seed:49,name: Iris, depth: 8, train accuracy:0.9777777777777777, test accuracy:0.9666666666666667,train_f1_macro:0.9777777777777779,test_f1_macro:0.9665831244778613,train time: 5.835284233093262, test accuracy time: 0.0030007362365722656\n",
      "dataset name is: Iris \n",
      "Running trial 9 with seed 50\n",
      "Using device: cpu\n",
      "trial: 9,seed:50,name: Iris, depth: 8, train accuracy:0.9888888888888889, test accuracy:1.0,train_f1_macro:0.9888858016115588,test_f1_macro:1.0,train time: 8.497576236724854, test accuracy time: 0.002946138381958008\n",
      "dataset name is: Iris \n",
      "Running trial 10 with seed 51\n",
      "Using device: cpu\n",
      "trial: 10,seed:51,name: Iris, depth: 8, train accuracy:0.9777777777777777, test accuracy:0.9333333333333333,train_f1_macro:0.9777777777777779,test_f1_macro:0.934609250398724,train time: 6.683948040008545, test accuracy time: 0.003094911575317383\n",
      "Mean Test Accuracy for Depth 8: 0.9533\n",
      "Standard Deviation of Test Accuracy for Depth 8: 0.0340\n",
      "All trials' results are saved in: optModel/Iris/Iris_all_trials_results.csv\n",
      "Statistic summary is saved in: optModel/Iris/Statistics_summary_Iris.csv\n"
     ]
    }
   ],
   "source": [
    "name = \"Iris\"\n",
    "run_experiment_trials(name)"
   ]
  },
  {
   "cell_type": "code",
   "execution_count": null,
   "metadata": {},
   "outputs": [],
   "source": []
  }
 ],
 "metadata": {
  "kernelspec": {
   "display_name": "aeon-env",
   "language": "python",
   "name": "python3"
  },
  "language_info": {
   "codemirror_mode": {
    "name": "ipython",
    "version": 3
   },
   "file_extension": ".py",
   "mimetype": "text/x-python",
   "name": "python",
   "nbconvert_exporter": "python",
   "pygments_lexer": "ipython3",
   "version": "3.11.0"
  }
 },
 "nbformat": 4,
 "nbformat_minor": 2
}
